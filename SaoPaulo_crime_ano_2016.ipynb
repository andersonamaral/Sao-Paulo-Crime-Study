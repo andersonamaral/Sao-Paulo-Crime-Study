{
 "cells": [
  {
   "cell_type": "markdown",
   "metadata": {},
   "source": [
    "# Análise dos Crimes no Estado de São Paulo\n",
    "\n"
   ]
  },
  {
   "cell_type": "markdown",
   "metadata": {},
   "source": [
    "## Abaixo faço a Análise inicial do boletim de ocorrência dos últimos 10 anos do estado de São Paulo \n",
    "\n",
    "* Verificação de informação das colunas;\n",
    "* Verificação da qualidade dos Dados;\n",
    "* Primeiros insights;"
   ]
  },
  {
   "cell_type": "code",
   "execution_count": 1,
   "metadata": {
    "collapsed": true
   },
   "outputs": [],
   "source": [
    "import pandas as pd"
   ]
  },
  {
   "cell_type": "code",
   "execution_count": 2,
   "metadata": {
    "collapsed": false
   },
   "outputs": [
    {
     "name": "stderr",
     "output_type": "stream",
     "text": [
      "/home/anderson/anaconda3/lib/python3.5/site-packages/IPython/core/interactiveshell.py:2723: DtypeWarning: Columns (19,21) have mixed types. Specify dtype option on import or set low_memory=False.\n",
      "  interactivity=interactivity, compiler=compiler, result=result)\n"
     ]
    }
   ],
   "source": [
    "import pandas as pd\n",
    "df = pd.read_csv('https://query.data.world/s/1ae7h2l9lvb1vapjwv9p1oga5', encoding = 'latin1')"
   ]
  },
  {
   "cell_type": "code",
   "execution_count": null,
   "metadata": {
    "collapsed": false
   },
   "outputs": [],
   "source": []
  },
  {
   "cell_type": "code",
   "execution_count": 3,
   "metadata": {
    "collapsed": false
   },
   "outputs": [
    {
     "data": {
      "text/html": [
       "<div>\n",
       "<table border=\"1\" class=\"dataframe\">\n",
       "  <thead>\n",
       "    <tr style=\"text-align: right;\">\n",
       "      <th></th>\n",
       "      <th>NUM_BO</th>\n",
       "      <th>ANO_BO</th>\n",
       "      <th>ID_DELEGACIA</th>\n",
       "      <th>NOME_DEPARTAMENTO</th>\n",
       "      <th>NOME_SECCIONAL</th>\n",
       "      <th>DELEGACIA</th>\n",
       "      <th>NOME_DEPARTAMENTO_CIRC</th>\n",
       "      <th>NOME_SECCIONAL_CIRC</th>\n",
       "      <th>NOME_DELEGACIA_CIRC</th>\n",
       "      <th>ANO</th>\n",
       "      <th>...</th>\n",
       "      <th>RUBRICA</th>\n",
       "      <th>DESDOBRAMENTO</th>\n",
       "      <th>CONDUTA</th>\n",
       "      <th>LATITUDE</th>\n",
       "      <th>LONGITUDE</th>\n",
       "      <th>CIDADE</th>\n",
       "      <th>LOGRADOURO</th>\n",
       "      <th>NUMERO_LOGRADOURO</th>\n",
       "      <th>FLAG_STATUS.1</th>\n",
       "      <th>Unnamed: 21</th>\n",
       "    </tr>\n",
       "  </thead>\n",
       "  <tbody>\n",
       "    <tr>\n",
       "      <th>0</th>\n",
       "      <td>3784</td>\n",
       "      <td>2016</td>\n",
       "      <td>10101</td>\n",
       "      <td>DECAP</td>\n",
       "      <td>DEL.SEC.1Âº CENTRO</td>\n",
       "      <td>01Âº D.P. SE</td>\n",
       "      <td>DECAP</td>\n",
       "      <td>DEL.SEC.1Âº CENTRO</td>\n",
       "      <td>78Âº D.P. JARDINS</td>\n",
       "      <td>2016</td>\n",
       "      <td>...</td>\n",
       "      <td>Furto (art. 155)</td>\n",
       "      <td>NaN</td>\n",
       "      <td>TRANSEUNTE</td>\n",
       "      <td>-23.564984</td>\n",
       "      <td>-46.652035</td>\n",
       "      <td>S.PAULO</td>\n",
       "      <td>AVENIDA PAULISTA</td>\n",
       "      <td>1000</td>\n",
       "      <td>C</td>\n",
       "      <td>NaN</td>\n",
       "    </tr>\n",
       "    <tr>\n",
       "      <th>1</th>\n",
       "      <td>3426</td>\n",
       "      <td>2016</td>\n",
       "      <td>10102</td>\n",
       "      <td>DECAP</td>\n",
       "      <td>DEL.SEC.1Âº CENTRO</td>\n",
       "      <td>02Âº D.P. BOM RETIRO</td>\n",
       "      <td>DECAP</td>\n",
       "      <td>DEL.SEC.1Âº CENTRO</td>\n",
       "      <td>03Âº D.P. CAMPOS ELISEOS</td>\n",
       "      <td>2016</td>\n",
       "      <td>...</td>\n",
       "      <td>Roubo (art. 157)</td>\n",
       "      <td>NaN</td>\n",
       "      <td>TRANSEUNTE</td>\n",
       "      <td>-23.542476</td>\n",
       "      <td>-46.641928</td>\n",
       "      <td>S.PAULO</td>\n",
       "      <td>PRAÃA DA REPUBLICA</td>\n",
       "      <td>0</td>\n",
       "      <td>C</td>\n",
       "      <td>NaN</td>\n",
       "    </tr>\n",
       "    <tr>\n",
       "      <th>2</th>\n",
       "      <td>6359</td>\n",
       "      <td>2016</td>\n",
       "      <td>10102</td>\n",
       "      <td>DECAP</td>\n",
       "      <td>DEL.SEC.1Âº CENTRO</td>\n",
       "      <td>02Âº D.P. BOM RETIRO</td>\n",
       "      <td>DECAP</td>\n",
       "      <td>DEL.SEC.1Âº CENTRO</td>\n",
       "      <td>03Âº D.P. CAMPOS ELISEOS</td>\n",
       "      <td>2016</td>\n",
       "      <td>...</td>\n",
       "      <td>Drogas sem autorizaÃ§Ã£o ou em desacordo (Art....</td>\n",
       "      <td>NaN</td>\n",
       "      <td>NaN</td>\n",
       "      <td>-23.542183</td>\n",
       "      <td>-46.640599</td>\n",
       "      <td>S.PAULO</td>\n",
       "      <td>RUA CONSELHEIRO NEBIAS</td>\n",
       "      <td>0</td>\n",
       "      <td>C</td>\n",
       "      <td>NaN</td>\n",
       "    </tr>\n",
       "    <tr>\n",
       "      <th>3</th>\n",
       "      <td>1267</td>\n",
       "      <td>2016</td>\n",
       "      <td>10103</td>\n",
       "      <td>DECAP</td>\n",
       "      <td>DEL.SEC.1Âº CENTRO</td>\n",
       "      <td>03Âº D.P. CAMPOS ELISEOS</td>\n",
       "      <td>DECAP</td>\n",
       "      <td>DEL.SEC.8Âº SAO MATEUS</td>\n",
       "      <td>49Âº D.P.  SAO MATEUS</td>\n",
       "      <td>2016</td>\n",
       "      <td>...</td>\n",
       "      <td>Roubo (art. 157)</td>\n",
       "      <td>NaN</td>\n",
       "      <td>CARGA</td>\n",
       "      <td>-23.609275</td>\n",
       "      <td>-46.455087</td>\n",
       "      <td>S.PAULO</td>\n",
       "      <td>RUA MADUREIRA CALHEIROS</td>\n",
       "      <td>15</td>\n",
       "      <td>C</td>\n",
       "      <td>NaN</td>\n",
       "    </tr>\n",
       "    <tr>\n",
       "      <th>4</th>\n",
       "      <td>4804</td>\n",
       "      <td>2016</td>\n",
       "      <td>10106</td>\n",
       "      <td>DECAP</td>\n",
       "      <td>DEL.SEC.1Âº CENTRO</td>\n",
       "      <td>06Âº D.P. CAMBUCI</td>\n",
       "      <td>DECAP</td>\n",
       "      <td>DEL.SEC.1Âº CENTRO</td>\n",
       "      <td>06Âº D.P. CAMBUCI</td>\n",
       "      <td>2016</td>\n",
       "      <td>...</td>\n",
       "      <td>LesÃ£o corporal (art. 129)</td>\n",
       "      <td>NaN</td>\n",
       "      <td>NaN</td>\n",
       "      <td>-23.573928</td>\n",
       "      <td>-46.620693</td>\n",
       "      <td>S.PAULO</td>\n",
       "      <td>RUA ROBERTSON</td>\n",
       "      <td>625</td>\n",
       "      <td>C</td>\n",
       "      <td>NaN</td>\n",
       "    </tr>\n",
       "  </tbody>\n",
       "</table>\n",
       "<p>5 rows × 22 columns</p>\n",
       "</div>"
      ],
      "text/plain": [
       "   NUM_BO  ANO_BO  ID_DELEGACIA                         NOME_DEPARTAMENTO  \\\n",
       "0    3784    2016         10101  DECAP                                      \n",
       "1    3426    2016         10102  DECAP                                      \n",
       "2    6359    2016         10102  DECAP                                      \n",
       "3    1267    2016         10103  DECAP                                      \n",
       "4    4804    2016         10106  DECAP                                      \n",
       "\n",
       "                              NOME_SECCIONAL                        DELEGACIA  \\\n",
       "0  DEL.SEC.1Âº CENTRO                         01Âº D.P. SE                      \n",
       "1  DEL.SEC.1Âº CENTRO                         02Âº D.P. BOM RETIRO              \n",
       "2  DEL.SEC.1Âº CENTRO                         02Âº D.P. BOM RETIRO              \n",
       "3  DEL.SEC.1Âº CENTRO                         03Âº D.P. CAMPOS ELISEOS          \n",
       "4  DEL.SEC.1Âº CENTRO                         06Âº D.P. CAMBUCI                 \n",
       "\n",
       "                     NOME_DEPARTAMENTO_CIRC  \\\n",
       "0  DECAP                                      \n",
       "1  DECAP                                      \n",
       "2  DECAP                                      \n",
       "3  DECAP                                      \n",
       "4  DECAP                                      \n",
       "\n",
       "                         NOME_SECCIONAL_CIRC              NOME_DELEGACIA_CIRC  \\\n",
       "0  DEL.SEC.1Âº CENTRO                         78Âº D.P. JARDINS                 \n",
       "1  DEL.SEC.1Âº CENTRO                         03Âº D.P. CAMPOS ELISEOS          \n",
       "2  DEL.SEC.1Âº CENTRO                         03Âº D.P. CAMPOS ELISEOS          \n",
       "3  DEL.SEC.8Âº SAO MATEUS                     49Âº D.P.  SAO MATEUS             \n",
       "4  DEL.SEC.1Âº CENTRO                         06Âº D.P. CAMBUCI                 \n",
       "\n",
       "    ANO     ...                                                RUBRICA  \\\n",
       "0  2016     ...                                       Furto (art. 155)   \n",
       "1  2016     ...                                       Roubo (art. 157)   \n",
       "2  2016     ...      Drogas sem autorizaÃ§Ã£o ou em desacordo (Art....   \n",
       "3  2016     ...                                       Roubo (art. 157)   \n",
       "4  2016     ...                             LesÃ£o corporal (art. 129)   \n",
       "\n",
       "  DESDOBRAMENTO     CONDUTA   LATITUDE  LONGITUDE  \\\n",
       "0           NaN  TRANSEUNTE -23.564984 -46.652035   \n",
       "1           NaN  TRANSEUNTE -23.542476 -46.641928   \n",
       "2           NaN         NaN -23.542183 -46.640599   \n",
       "3           NaN       CARGA -23.609275 -46.455087   \n",
       "4           NaN         NaN -23.573928 -46.620693   \n",
       "\n",
       "                                     CIDADE  \\\n",
       "0  S.PAULO                                    \n",
       "1  S.PAULO                                    \n",
       "2  S.PAULO                                    \n",
       "3  S.PAULO                                    \n",
       "4  S.PAULO                                    \n",
       "\n",
       "                                  LOGRADOURO NUMERO_LOGRADOURO FLAG_STATUS.1  \\\n",
       "0   AVENIDA PAULISTA                                      1000             C   \n",
       "1  PRAÃA DA REPUBLICA                                       0             C   \n",
       "2   RUA CONSELHEIRO NEBIAS                                   0             C   \n",
       "3   RUA MADUREIRA CALHEIROS                                 15             C   \n",
       "4   RUA ROBERTSON                                          625             C   \n",
       "\n",
       "  Unnamed: 21  \n",
       "0         NaN  \n",
       "1         NaN  \n",
       "2         NaN  \n",
       "3         NaN  \n",
       "4         NaN  \n",
       "\n",
       "[5 rows x 22 columns]"
      ]
     },
     "execution_count": 3,
     "metadata": {},
     "output_type": "execute_result"
    }
   ],
   "source": [
    "df.head()"
   ]
  },
  {
   "cell_type": "code",
   "execution_count": 4,
   "metadata": {
    "collapsed": false
   },
   "outputs": [
    {
     "name": "stdout",
     "output_type": "stream",
     "text": [
      "<class 'pandas.core.frame.DataFrame'>\n",
      "RangeIndex: 774662 entries, 0 to 774661\n",
      "Data columns (total 22 columns):\n",
      "NUM_BO                    774662 non-null int64\n",
      "ANO_BO                    774662 non-null int64\n",
      "ID_DELEGACIA              774662 non-null int64\n",
      "NOME_DEPARTAMENTO         774662 non-null object\n",
      "NOME_SECCIONAL            774662 non-null object\n",
      "DELEGACIA                 774662 non-null object\n",
      "NOME_DEPARTAMENTO_CIRC    774662 non-null object\n",
      "NOME_SECCIONAL_CIRC       774662 non-null object\n",
      "NOME_DELEGACIA_CIRC       774662 non-null object\n",
      "ANO                       774662 non-null int64\n",
      "MES                       774662 non-null int64\n",
      "FLAG_STATUS               774662 non-null object\n",
      "RUBRICA                   774662 non-null object\n",
      "DESDOBRAMENTO             30092 non-null object\n",
      "CONDUTA                   658523 non-null object\n",
      "LATITUDE                  731960 non-null float64\n",
      "LONGITUDE                 731959 non-null float64\n",
      "CIDADE                    774662 non-null object\n",
      "LOGRADOURO                774660 non-null object\n",
      "NUMERO_LOGRADOURO         774337 non-null object\n",
      "FLAG_STATUS.1             774662 non-null object\n",
      "Unnamed: 21               24 non-null object\n",
      "dtypes: float64(2), int64(5), object(15)\n",
      "memory usage: 130.0+ MB\n"
     ]
    }
   ],
   "source": [
    "#Verificando tipo dados das colunas\n",
    "df.info()"
   ]
  },
  {
   "cell_type": "code",
   "execution_count": 5,
   "metadata": {
    "collapsed": false
   },
   "outputs": [
    {
     "data": {
      "text/plain": [
       "2017"
      ]
     },
     "execution_count": 5,
     "metadata": {},
     "output_type": "execute_result"
    }
   ],
   "source": [
    "#Sera que temos boletins inclusive desse ano ? \n",
    "df['ANO_BO'].max()\n"
   ]
  },
  {
   "cell_type": "code",
   "execution_count": 6,
   "metadata": {
    "collapsed": false
   },
   "outputs": [
    {
     "data": {
      "text/plain": [
       "0                                     Furto (art. 155)\n",
       "1                                     Roubo (art. 157)\n",
       "2    Drogas sem autorizaÃ§Ã£o ou em desacordo (Art....\n",
       "3                                     Roubo (art. 157)\n",
       "4                           LesÃ£o corporal (art. 129)\n",
       "Name: RUBRICA, dtype: object"
      ]
     },
     "execution_count": 6,
     "metadata": {},
     "output_type": "execute_result"
    }
   ],
   "source": [
    "#Verificando variáveis que podem conter tipos de crimes\n",
    "df['RUBRICA'].head()"
   ]
  },
  {
   "cell_type": "code",
   "execution_count": 7,
   "metadata": {
    "collapsed": false
   },
   "outputs": [
    {
     "data": {
      "text/plain": [
       "39"
      ]
     },
     "execution_count": 7,
     "metadata": {},
     "output_type": "execute_result"
    }
   ],
   "source": [
    "#Excelente, vamos quer quantos tipos de crimes diferentes temos aqui registrados :\n",
    "df['RUBRICA'].nunique()"
   ]
  },
  {
   "cell_type": "code",
   "execution_count": 8,
   "metadata": {
    "collapsed": false
   },
   "outputs": [
    {
     "data": {
      "text/plain": [
       "array(['Furto (art. 155)', 'Roubo (art. 157)',\n",
       "       'Drogas sem autorizaÃ§Ã£o ou em desacordo (Art.33, caput)',\n",
       "       'LesÃ£o corporal (art. 129)', 'Furto qualificado (art. 155, Â§4o.)',\n",
       "       'LesÃ£o corporal culposa na direÃ§Ã£o de veÃ\\xadculo automotor (Art. 303)',\n",
       "       'LesÃ£o corporal (art 129 Â§ 9Âº)',\n",
       "       'A.I.-LesÃ£o corporal (art. 129)', 'A.I.-Roubo (art. 157)',\n",
       "       'A.I.-Furto (art. 155)',\n",
       "       'A.I.-Drogas sem autorizaÃ§Ã£o ou em desacordo (Art.33, caput)',\n",
       "       'A.I.-Porte de entorpecente (Art. 16)',\n",
       "       'Estupro de vulneravel (art.217-A)',\n",
       "       'LesÃ£o corporal culposa (art. 129. Â§6o.)',\n",
       "       'HomicÃ\\xaddio qualificado (art. 121, Â§2o.)',\n",
       "       'HomicÃ\\xaddio simples (art. 121)',\n",
       "       'A.I.-Estupro de vulneravel (art.217-A)',\n",
       "       'HomicÃ\\xaddio culposo na direÃ§Ã£o de veÃ\\xadculo automotor (Art. 302)',\n",
       "       'A.I.-Furto qualificado (art. 155, Â§4o.)', 'Estupro (art.213)',\n",
       "       'Oferecer droga a pessoa de seu relacionamento (Art.33,Â§3Âº)',\n",
       "       'A.I.-LesÃ£o corporal culposa na direÃ§Ã£o de veÃ\\xadculo automotor (Art. 303)',\n",
       "       'LesÃ£o corporal de natureza GRAVE (art. 129, Â§1o.)',\n",
       "       'A.I.-HomicÃ\\xaddio simples (art. 121)',\n",
       "       'LesÃ£o corporal seguida de morte (art. 129, Â§3o.)',\n",
       "       'A.I.-LesÃ£o corporal culposa (art. 129. Â§6o.)',\n",
       "       'A.I.-Oferecer droga a pessoa de seu relacionamento (Art.33,Â§3Âº)',\n",
       "       'A.I.-LesÃ£o corporal de natureza GRAVE (art. 129, Â§1o.)',\n",
       "       'A.I.-LesÃ£o corporal (art 129 Â§ 9Âº)',\n",
       "       'Furto de coisa comum (art. 156)',\n",
       "       'HomicÃ\\xaddio culposo (art. 121, Â§3o.)',\n",
       "       'A.I.-HomicÃ\\xaddio qualificado (art. 121, Â§2o.)',\n",
       "       'A.I.-TrÃ¡fico de entorpecente (Art. 12)',\n",
       "       'A.I.-HomicÃ\\xaddio culposo na direÃ§Ã£o de veÃ\\xadculo automotor (Art. 302)',\n",
       "       'Induzir, instigar ou auxiliar alguÃ©m ao uso indevido de droga(Art.33,Â§2Âº)',\n",
       "       \"LesÃ£o corporal  de natureza 'GRAVÃ\\x8dSSIMA' (art. 129, Â§2o.)\",\n",
       "       'A.I.-HomicÃ\\xaddio culposo (art. 121, Â§3o.)',\n",
       "       \"A.I.-LesÃ£o corporal  de natureza 'GRAVÃ\\x8dSSIMA' (art. 129, Â§2o.)\",\n",
       "       'A.I.-Furto de coisa comum (art. 156)'], dtype=object)"
      ]
     },
     "execution_count": 8,
     "metadata": {},
     "output_type": "execute_result"
    }
   ],
   "source": [
    "#E agora vamos ver quais são\n",
    "df['RUBRICA'].unique()"
   ]
  },
  {
   "cell_type": "markdown",
   "metadata": {},
   "source": [
    "### Sempre tive interesse em investigar todos os crimes diretamente ligados ao tráfico de drogas. Acima posso ver quais são esses. "
   ]
  },
  {
   "cell_type": "code",
   "execution_count": 9,
   "metadata": {
    "collapsed": false
   },
   "outputs": [],
   "source": [
    "artigo_12 = df[df['RUBRICA']== 'TrÃ¡fico de entorpecente (Art. 12)'] "
   ]
  },
  {
   "cell_type": "code",
   "execution_count": 10,
   "metadata": {
    "collapsed": false
   },
   "outputs": [
    {
     "data": {
      "text/html": [
       "<div>\n",
       "<table border=\"1\" class=\"dataframe\">\n",
       "  <thead>\n",
       "    <tr style=\"text-align: right;\">\n",
       "      <th></th>\n",
       "      <th>NUM_BO</th>\n",
       "      <th>ANO_BO</th>\n",
       "      <th>ID_DELEGACIA</th>\n",
       "      <th>NOME_DEPARTAMENTO</th>\n",
       "      <th>NOME_SECCIONAL</th>\n",
       "      <th>DELEGACIA</th>\n",
       "      <th>NOME_DEPARTAMENTO_CIRC</th>\n",
       "      <th>NOME_SECCIONAL_CIRC</th>\n",
       "      <th>NOME_DELEGACIA_CIRC</th>\n",
       "      <th>ANO</th>\n",
       "      <th>...</th>\n",
       "      <th>RUBRICA</th>\n",
       "      <th>DESDOBRAMENTO</th>\n",
       "      <th>CONDUTA</th>\n",
       "      <th>LATITUDE</th>\n",
       "      <th>LONGITUDE</th>\n",
       "      <th>CIDADE</th>\n",
       "      <th>LOGRADOURO</th>\n",
       "      <th>NUMERO_LOGRADOURO</th>\n",
       "      <th>FLAG_STATUS.1</th>\n",
       "      <th>Unnamed: 21</th>\n",
       "    </tr>\n",
       "  </thead>\n",
       "  <tbody>\n",
       "  </tbody>\n",
       "</table>\n",
       "<p>0 rows × 22 columns</p>\n",
       "</div>"
      ],
      "text/plain": [
       "Empty DataFrame\n",
       "Columns: [NUM_BO, ANO_BO, ID_DELEGACIA, NOME_DEPARTAMENTO, NOME_SECCIONAL, DELEGACIA, NOME_DEPARTAMENTO_CIRC, NOME_SECCIONAL_CIRC, NOME_DELEGACIA_CIRC, ANO, MES, FLAG_STATUS, RUBRICA, DESDOBRAMENTO, CONDUTA, LATITUDE, LONGITUDE, CIDADE, LOGRADOURO, NUMERO_LOGRADOURO, FLAG_STATUS.1, Unnamed: 21]\n",
       "Index: []\n",
       "\n",
       "[0 rows x 22 columns]"
      ]
     },
     "execution_count": 10,
     "metadata": {},
     "output_type": "execute_result"
    }
   ],
   "source": [
    "artigo_12.head()"
   ]
  },
  {
   "cell_type": "code",
   "execution_count": 11,
   "metadata": {
    "collapsed": false
   },
   "outputs": [
    {
     "name": "stdout",
     "output_type": "stream",
     "text": [
      "<class 'pandas.core.frame.DataFrame'>\n",
      "Int64Index: 0 entries\n",
      "Data columns (total 22 columns):\n",
      "NUM_BO                    0 non-null int64\n",
      "ANO_BO                    0 non-null int64\n",
      "ID_DELEGACIA              0 non-null int64\n",
      "NOME_DEPARTAMENTO         0 non-null object\n",
      "NOME_SECCIONAL            0 non-null object\n",
      "DELEGACIA                 0 non-null object\n",
      "NOME_DEPARTAMENTO_CIRC    0 non-null object\n",
      "NOME_SECCIONAL_CIRC       0 non-null object\n",
      "NOME_DELEGACIA_CIRC       0 non-null object\n",
      "ANO                       0 non-null int64\n",
      "MES                       0 non-null int64\n",
      "FLAG_STATUS               0 non-null object\n",
      "RUBRICA                   0 non-null object\n",
      "DESDOBRAMENTO             0 non-null object\n",
      "CONDUTA                   0 non-null object\n",
      "LATITUDE                  0 non-null float64\n",
      "LONGITUDE                 0 non-null float64\n",
      "CIDADE                    0 non-null object\n",
      "LOGRADOURO                0 non-null object\n",
      "NUMERO_LOGRADOURO         0 non-null object\n",
      "FLAG_STATUS.1             0 non-null object\n",
      "Unnamed: 21               0 non-null object\n",
      "dtypes: float64(2), int64(5), object(15)\n",
      "memory usage: 0.0+ bytes\n"
     ]
    }
   ],
   "source": [
    "#Vendo as características do novo dataframe\n",
    "artigo_12.info()"
   ]
  },
  {
   "cell_type": "code",
   "execution_count": 12,
   "metadata": {
    "collapsed": false
   },
   "outputs": [
    {
     "data": {
      "text/plain": [
       "0"
      ]
     },
     "execution_count": 12,
     "metadata": {},
     "output_type": "execute_result"
    }
   ],
   "source": [
    "artigo_12['DESDOBRAMENTO'].nunique()"
   ]
  },
  {
   "cell_type": "code",
   "execution_count": 13,
   "metadata": {
    "collapsed": false
   },
   "outputs": [
    {
     "data": {
      "text/html": [
       "<div>\n",
       "<table border=\"1\" class=\"dataframe\">\n",
       "  <thead>\n",
       "    <tr style=\"text-align: right;\">\n",
       "      <th></th>\n",
       "      <th>NUM_BO</th>\n",
       "      <th>ANO_BO</th>\n",
       "      <th>ID_DELEGACIA</th>\n",
       "      <th>NOME_DEPARTAMENTO</th>\n",
       "      <th>NOME_SECCIONAL</th>\n",
       "      <th>DELEGACIA</th>\n",
       "      <th>NOME_DEPARTAMENTO_CIRC</th>\n",
       "      <th>NOME_SECCIONAL_CIRC</th>\n",
       "      <th>NOME_DELEGACIA_CIRC</th>\n",
       "      <th>ANO</th>\n",
       "      <th>...</th>\n",
       "      <th>RUBRICA</th>\n",
       "      <th>DESDOBRAMENTO</th>\n",
       "      <th>CONDUTA</th>\n",
       "      <th>LATITUDE</th>\n",
       "      <th>LONGITUDE</th>\n",
       "      <th>CIDADE</th>\n",
       "      <th>LOGRADOURO</th>\n",
       "      <th>NUMERO_LOGRADOURO</th>\n",
       "      <th>FLAG_STATUS.1</th>\n",
       "      <th>Unnamed: 21</th>\n",
       "    </tr>\n",
       "  </thead>\n",
       "  <tbody>\n",
       "  </tbody>\n",
       "</table>\n",
       "<p>0 rows × 22 columns</p>\n",
       "</div>"
      ],
      "text/plain": [
       "Empty DataFrame\n",
       "Columns: [NUM_BO, ANO_BO, ID_DELEGACIA, NOME_DEPARTAMENTO, NOME_SECCIONAL, DELEGACIA, NOME_DEPARTAMENTO_CIRC, NOME_SECCIONAL_CIRC, NOME_DELEGACIA_CIRC, ANO, MES, FLAG_STATUS, RUBRICA, DESDOBRAMENTO, CONDUTA, LATITUDE, LONGITUDE, CIDADE, LOGRADOURO, NUMERO_LOGRADOURO, FLAG_STATUS.1, Unnamed: 21]\n",
       "Index: []\n",
       "\n",
       "[0 rows x 22 columns]"
      ]
     },
     "execution_count": 13,
     "metadata": {},
     "output_type": "execute_result"
    }
   ],
   "source": [
    "artigo_12"
   ]
  },
  {
   "cell_type": "code",
   "execution_count": 14,
   "metadata": {
    "collapsed": false
   },
   "outputs": [
    {
     "data": {
      "text/plain": [
       "nan"
      ]
     },
     "execution_count": 14,
     "metadata": {},
     "output_type": "execute_result"
    }
   ],
   "source": [
    "artigo_12['ANO_BO'].max()"
   ]
  },
  {
   "cell_type": "code",
   "execution_count": null,
   "metadata": {
    "collapsed": true
   },
   "outputs": [],
   "source": []
  }
 ],
 "metadata": {
  "kernelspec": {
   "display_name": "Python 3",
   "language": "python",
   "name": "python3"
  },
  "language_info": {
   "codemirror_mode": {
    "name": "ipython",
    "version": 3
   },
   "file_extension": ".py",
   "mimetype": "text/x-python",
   "name": "python",
   "nbconvert_exporter": "python",
   "pygments_lexer": "ipython3",
   "version": "3.5.1"
  }
 },
 "nbformat": 4,
 "nbformat_minor": 0
}
