{
 "cells": [
  {
   "cell_type": "code",
   "execution_count": 2,
   "metadata": {
    "collapsed": true
   },
   "outputs": [],
   "source": [
    "import pandas as pd"
   ]
  },
  {
   "cell_type": "code",
   "execution_count": 3,
   "metadata": {},
   "outputs": [
    {
     "name": "stderr",
     "output_type": "stream",
     "text": [
      "/home/anderson/anaconda3/lib/python3.5/site-packages/IPython/core/interactiveshell.py:2723: DtypeWarning: Columns (22,23,24,28,30) have mixed types. Specify dtype option on import or set low_memory=False.\n",
      "  interactivity=interactivity, compiler=compiler, result=result)\n"
     ]
    }
   ],
   "source": [
    "df = pd.read_csv('/home/anderson/Desktop/Sao-Paulo-Crime-Study/output.csv', encoding = 'latin1')"
   ]
  },
  {
   "cell_type": "code",
   "execution_count": 4,
   "metadata": {},
   "outputs": [
    {
     "name": "stdout",
     "output_type": "stream",
     "text": [
      "<class 'pandas.core.frame.DataFrame'>\n",
      "RangeIndex: 793050 entries, 0 to 793049\n",
      "Data columns (total 31 columns):\n",
      "ID_DELEGACIA               793050 non-null int64\n",
      "NOME_DEPARTAMENTO          793050 non-null object\n",
      "NOME_SECCIONAL             793050 non-null object\n",
      "NOME_DELEGACIA             793050 non-null object\n",
      "CIDADE                     793050 non-null object\n",
      "ANO_BO                     793050 non-null int64\n",
      "NUM_BO                     793050 non-null int64\n",
      "NOME_DEPARTAMENTO_CIRC     793050 non-null object\n",
      "NOME_SECCIONAL_CIRC        793050 non-null object\n",
      "NOME_DELEGACIA_CIRC        793050 non-null object\n",
      "NOME_MUNICIPIO_CIRC        793050 non-null object\n",
      "DESCR_TIPO_BO              793050 non-null object\n",
      "DATA_OCORRENCIA_BO         793050 non-null object\n",
      "HORA_OCORRENCIA_BO         712129 non-null object\n",
      "DATAHORA_COMUNICACAO_BO    0 non-null float64\n",
      "FLAG_STATUS                793050 non-null object\n",
      "RUBRICA                    793050 non-null object\n",
      "DESCR_CONDUTA              607623 non-null object\n",
      "DESDOBRAMENTO              44298 non-null object\n",
      "DESCR_TIPOLOCAL            793050 non-null object\n",
      "DESCR_SUBTIPOLOCAL         793050 non-null object\n",
      "LOGRADOURO                 793050 non-null object\n",
      "NUMERO_LOGRADOURO          739249 non-null object\n",
      "LATITUDE                   463935 non-null object\n",
      "LONGITUDE                  463927 non-null object\n",
      "DESCR_TIPO_PESSOA          793037 non-null object\n",
      "FLAG_VITIMA_FATAL          35424 non-null object\n",
      "SEXO_PESSOA                793031 non-null object\n",
      "IDADE_PESSOA               782791 non-null object\n",
      "COR_CUTIS                  791967 non-null object\n",
      "Unnamed: 30                17 non-null object\n",
      "dtypes: float64(1), int64(3), object(27)\n",
      "memory usage: 187.6+ MB\n"
     ]
    }
   ],
   "source": [
    "#first checking my df \n",
    "df.info()"
   ]
  },
  {
   "cell_type": "code",
   "execution_count": 5,
   "metadata": {},
   "outputs": [
    {
     "data": {
      "text/plain": [
       "0                   LesÃ£o corporal (art. 129)\n",
       "1    LesÃ£o corporal culposa (art. 129. Â§6o.)\n",
       "2                   LesÃ£o corporal (art. 129)\n",
       "3                             Furto (art. 155)\n",
       "4          Furto qualificado (art. 155, Â§4o.)\n",
       "Name: RUBRICA, dtype: object"
      ]
     },
     "execution_count": 5,
     "metadata": {},
     "output_type": "execute_result"
    }
   ],
   "source": [
    "#Now, creating differente dataframes according to the crime. Crime is in RUBRICA\n",
    "df['RUBRICA'].head()"
   ]
  },
  {
   "cell_type": "code",
   "execution_count": 6,
   "metadata": {},
   "outputs": [
    {
     "data": {
      "text/plain": [
       "20"
      ]
     },
     "execution_count": 6,
     "metadata": {},
     "output_type": "execute_result"
    }
   ],
   "source": [
    "#And we have 20 different crimes\n",
    "df['RUBRICA'].nunique()"
   ]
  },
  {
   "cell_type": "code",
   "execution_count": null,
   "metadata": {
    "collapsed": true
   },
   "outputs": [],
   "source": [
    "i = {}\n",
    "for crime in df['RUBRICA']:\n",
    "    i[crime] = df[df['RUBRICA'] == crime]"
   ]
  },
  {
   "cell_type": "code",
   "execution_count": null,
   "metadata": {
    "collapsed": true
   },
   "outputs": [],
   "source": [
    "print(\"oi\")"
   ]
  },
  {
   "cell_type": "code",
   "execution_count": null,
   "metadata": {
    "collapsed": true
   },
   "outputs": [],
   "source": []
  }
 ],
 "metadata": {
  "kernelspec": {
   "display_name": "Python 3",
   "language": "python",
   "name": "python3"
  },
  "language_info": {
   "codemirror_mode": {
    "name": "ipython",
    "version": 3
   },
   "file_extension": ".py",
   "mimetype": "text/x-python",
   "name": "python",
   "nbconvert_exporter": "python",
   "pygments_lexer": "ipython3",
   "version": "3.5.1"
  }
 },
 "nbformat": 4,
 "nbformat_minor": 1
}
