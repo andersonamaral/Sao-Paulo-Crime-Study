{
 "cells": [
  {
   "cell_type": "markdown",
   "metadata": {},
   "source": [
    "# Análise dos Crimes no Estado de São Paulo\n",
    "\n"
   ]
  },
  {
   "cell_type": "markdown",
   "metadata": {},
   "source": [
    "## Abaixo faço a Análise inicial do boletim de ocorrência dos últimos 10 anos do estado de São Paulo \n",
    "\n",
    "* Verificação de informação das colunas;\n",
    "* Verificação da qualidade dos Dados;\n",
    "* Primeiros insights;"
   ]
  },
  {
   "cell_type": "code",
   "execution_count": null,
   "metadata": {
    "collapsed": true
   },
   "outputs": [],
   "source": [
    "import pandas as pd"
   ]
  },
  {
   "cell_type": "code",
   "execution_count": 1,
   "metadata": {
    "collapsed": false
   },
   "outputs": [
    {
     "name": "stderr",
     "output_type": "stream",
     "text": [
      "/home/anderson/anaconda3/lib/python3.5/site-packages/IPython/core/interactiveshell.py:2723: DtypeWarning: Columns (22,23,24,28,30) have mixed types. Specify dtype option on import or set low_memory=False.\n",
      "  interactivity=interactivity, compiler=compiler, result=result)\n"
     ]
    }
   ],
   "source": [
    "import pandas as pd\n",
    "import pandas as pd\n",
    "df = pd.read_csv('/home/anderson/Desktop/Sao-Paulo-Crime-Study/output.csv', encoding = 'latin1')"
   ]
  },
  {
   "cell_type": "code",
   "execution_count": 2,
   "metadata": {
    "collapsed": false
   },
   "outputs": [
    {
     "data": {
      "text/html": [
       "<div>\n",
       "<table border=\"1\" class=\"dataframe\">\n",
       "  <thead>\n",
       "    <tr style=\"text-align: right;\">\n",
       "      <th></th>\n",
       "      <th>ID_DELEGACIA</th>\n",
       "      <th>NOME_DEPARTAMENTO</th>\n",
       "      <th>NOME_SECCIONAL</th>\n",
       "      <th>NOME_DELEGACIA</th>\n",
       "      <th>CIDADE</th>\n",
       "      <th>ANO_BO</th>\n",
       "      <th>NUM_BO</th>\n",
       "      <th>NOME_DEPARTAMENTO_CIRC</th>\n",
       "      <th>NOME_SECCIONAL_CIRC</th>\n",
       "      <th>NOME_DELEGACIA_CIRC</th>\n",
       "      <th>...</th>\n",
       "      <th>LOGRADOURO</th>\n",
       "      <th>NUMERO_LOGRADOURO</th>\n",
       "      <th>LATITUDE</th>\n",
       "      <th>LONGITUDE</th>\n",
       "      <th>DESCR_TIPO_PESSOA</th>\n",
       "      <th>FLAG_VITIMA_FATAL</th>\n",
       "      <th>SEXO_PESSOA</th>\n",
       "      <th>IDADE_PESSOA</th>\n",
       "      <th>COR_CUTIS</th>\n",
       "      <th>Unnamed: 30</th>\n",
       "    </tr>\n",
       "  </thead>\n",
       "  <tbody>\n",
       "    <tr>\n",
       "      <th>0</th>\n",
       "      <td>10004</td>\n",
       "      <td>DIRD - DEPTO IDENT.REG.DIV</td>\n",
       "      <td>DIV.POL.PORTO/AERO/PROT.TURIS-DECADE</td>\n",
       "      <td>06Âº D.P. METROPOLITANO</td>\n",
       "      <td>S.PAULO</td>\n",
       "      <td>2010</td>\n",
       "      <td>12</td>\n",
       "      <td>DECAP</td>\n",
       "      <td>DEL.SEC.1Âº CENTRO</td>\n",
       "      <td>05Âº D.P. ACLIMACAO</td>\n",
       "      <td>...</td>\n",
       "      <td>ESTAÃAO BRIGADEIRO DO METRO</td>\n",
       "      <td>0</td>\n",
       "      <td>NaN</td>\n",
       "      <td>NaN</td>\n",
       "      <td>VÃ­tima</td>\n",
       "      <td>NaN</td>\n",
       "      <td>M</td>\n",
       "      <td>21</td>\n",
       "      <td>Preta</td>\n",
       "      <td>NaN</td>\n",
       "    </tr>\n",
       "    <tr>\n",
       "      <th>1</th>\n",
       "      <td>10004</td>\n",
       "      <td>DIRD - DEPTO IDENT.REG.DIV</td>\n",
       "      <td>DIV.POL.PORTO/AERO/PROT.TURIS-DECADE</td>\n",
       "      <td>06Âº D.P. METROPOLITANO</td>\n",
       "      <td>S.PAULO</td>\n",
       "      <td>2010</td>\n",
       "      <td>23</td>\n",
       "      <td>DECAP</td>\n",
       "      <td>DEL.SEC.1Âº CENTRO</td>\n",
       "      <td>03Âº D.P. CAMPOS ELISEOS</td>\n",
       "      <td>...</td>\n",
       "      <td>ESTAÃÃO REPUBLICA/PLATAFORMA EMBARQUE</td>\n",
       "      <td>99</td>\n",
       "      <td>NaN</td>\n",
       "      <td>NaN</td>\n",
       "      <td>VÃ­tima</td>\n",
       "      <td>NaN</td>\n",
       "      <td>F</td>\n",
       "      <td>48</td>\n",
       "      <td>Parda</td>\n",
       "      <td>NaN</td>\n",
       "    </tr>\n",
       "    <tr>\n",
       "      <th>2</th>\n",
       "      <td>10004</td>\n",
       "      <td>DIRD - DEPTO IDENT.REG.DIV</td>\n",
       "      <td>DIV.POL.PORTO/AERO/PROT.TURIS-DECADE</td>\n",
       "      <td>06Âº D.P. METROPOLITANO</td>\n",
       "      <td>S.PAULO</td>\n",
       "      <td>2010</td>\n",
       "      <td>24</td>\n",
       "      <td>DECAP</td>\n",
       "      <td>DEL.SEC.3Âº OESTE</td>\n",
       "      <td>37Âº D.P.  CAMPO LIMPO</td>\n",
       "      <td>...</td>\n",
       "      <td>EST.VILA DAS BELEZAS/ESTACIONAMENTO</td>\n",
       "      <td>99</td>\n",
       "      <td>NaN</td>\n",
       "      <td>NaN</td>\n",
       "      <td>VÃ­tima</td>\n",
       "      <td>NaN</td>\n",
       "      <td>M</td>\n",
       "      <td>42</td>\n",
       "      <td>Branca</td>\n",
       "      <td>NaN</td>\n",
       "    </tr>\n",
       "    <tr>\n",
       "      <th>3</th>\n",
       "      <td>10004</td>\n",
       "      <td>DIRD - DEPTO IDENT.REG.DIV</td>\n",
       "      <td>DIV.POL.PORTO/AERO/PROT.TURIS-DECADE</td>\n",
       "      <td>06Âº D.P. METROPOLITANO</td>\n",
       "      <td>S.PAULO</td>\n",
       "      <td>2010</td>\n",
       "      <td>31</td>\n",
       "      <td>DECAP</td>\n",
       "      <td>DEL.SEC.3Âº OESTE</td>\n",
       "      <td>23Âº D.P.  PERDIZES</td>\n",
       "      <td>...</td>\n",
       "      <td>ESTACAO BARRA FUNDA DO METRO</td>\n",
       "      <td>0</td>\n",
       "      <td>NaN</td>\n",
       "      <td>NaN</td>\n",
       "      <td>VÃ­tima</td>\n",
       "      <td>NaN</td>\n",
       "      <td>M</td>\n",
       "      <td>39</td>\n",
       "      <td>Branca</td>\n",
       "      <td>NaN</td>\n",
       "    </tr>\n",
       "    <tr>\n",
       "      <th>4</th>\n",
       "      <td>10004</td>\n",
       "      <td>DIRD - DEPTO IDENT.REG.DIV</td>\n",
       "      <td>DIV.POL.PORTO/AERO/PROT.TURIS-DECADE</td>\n",
       "      <td>06Âº D.P. METROPOLITANO</td>\n",
       "      <td>S.PAULO</td>\n",
       "      <td>2010</td>\n",
       "      <td>40</td>\n",
       "      <td>DECAP</td>\n",
       "      <td>DEL.SEC.1Âº CENTRO</td>\n",
       "      <td>78Âº D.P. JARDINS</td>\n",
       "      <td>...</td>\n",
       "      <td>AV PAULISTA</td>\n",
       "      <td>2073</td>\n",
       "      <td>NaN</td>\n",
       "      <td>NaN</td>\n",
       "      <td>VÃ­tima</td>\n",
       "      <td>NaN</td>\n",
       "      <td>F</td>\n",
       "      <td>32</td>\n",
       "      <td>Parda</td>\n",
       "      <td>NaN</td>\n",
       "    </tr>\n",
       "  </tbody>\n",
       "</table>\n",
       "<p>5 rows × 31 columns</p>\n",
       "</div>"
      ],
      "text/plain": [
       "   ID_DELEGACIA                         NOME_DEPARTAMENTO  \\\n",
       "0         10004  DIRD - DEPTO IDENT.REG.DIV                 \n",
       "1         10004  DIRD - DEPTO IDENT.REG.DIV                 \n",
       "2         10004  DIRD - DEPTO IDENT.REG.DIV                 \n",
       "3         10004  DIRD - DEPTO IDENT.REG.DIV                 \n",
       "4         10004  DIRD - DEPTO IDENT.REG.DIV                 \n",
       "\n",
       "                             NOME_SECCIONAL                   NOME_DELEGACIA  \\\n",
       "0  DIV.POL.PORTO/AERO/PROT.TURIS-DECADE      06Âº D.P. METROPOLITANO           \n",
       "1  DIV.POL.PORTO/AERO/PROT.TURIS-DECADE      06Âº D.P. METROPOLITANO           \n",
       "2  DIV.POL.PORTO/AERO/PROT.TURIS-DECADE      06Âº D.P. METROPOLITANO           \n",
       "3  DIV.POL.PORTO/AERO/PROT.TURIS-DECADE      06Âº D.P. METROPOLITANO           \n",
       "4  DIV.POL.PORTO/AERO/PROT.TURIS-DECADE      06Âº D.P. METROPOLITANO           \n",
       "\n",
       "                                     CIDADE  ANO_BO  NUM_BO  \\\n",
       "0  S.PAULO                                     2010      12   \n",
       "1  S.PAULO                                     2010      23   \n",
       "2  S.PAULO                                     2010      24   \n",
       "3  S.PAULO                                     2010      31   \n",
       "4  S.PAULO                                     2010      40   \n",
       "\n",
       "                     NOME_DEPARTAMENTO_CIRC  \\\n",
       "0  DECAP                                      \n",
       "1  DECAP                                      \n",
       "2  DECAP                                      \n",
       "3  DECAP                                      \n",
       "4  DECAP                                      \n",
       "\n",
       "                         NOME_SECCIONAL_CIRC              NOME_DELEGACIA_CIRC  \\\n",
       "0  DEL.SEC.1Âº CENTRO                         05Âº D.P. ACLIMACAO               \n",
       "1  DEL.SEC.1Âº CENTRO                         03Âº D.P. CAMPOS ELISEOS          \n",
       "2  DEL.SEC.3Âº OESTE                          37Âº D.P.  CAMPO LIMPO            \n",
       "3  DEL.SEC.3Âº OESTE                          23Âº D.P.  PERDIZES               \n",
       "4  DEL.SEC.1Âº CENTRO                         78Âº D.P. JARDINS                 \n",
       "\n",
       "      ...                                      LOGRADOURO NUMERO_LOGRADOURO  \\\n",
       "0     ...       ESTAÃAO BRIGADEIRO DO METRO                              0   \n",
       "1     ...      ESTAÃÃO REPUBLICA/PLATAFORMA EMBARQUE                   99   \n",
       "2     ...        EST.VILA DAS BELEZAS/ESTACIONAMENTO                     99   \n",
       "3     ...        ESTACAO BARRA FUNDA DO METRO                             0   \n",
       "4     ...        AV PAULISTA                                           2073   \n",
       "\n",
       "  LATITUDE LONGITUDE      DESCR_TIPO_PESSOA FLAG_VITIMA_FATAL SEXO_PESSOA  \\\n",
       "0      NaN       NaN  VÃ­tima                             NaN           M   \n",
       "1      NaN       NaN  VÃ­tima                             NaN           F   \n",
       "2      NaN       NaN  VÃ­tima                             NaN           M   \n",
       "3      NaN       NaN  VÃ­tima                             NaN           M   \n",
       "4      NaN       NaN  VÃ­tima                             NaN           F   \n",
       "\n",
       "  IDADE_PESSOA             COR_CUTIS Unnamed: 30  \n",
       "0           21  Preta                        NaN  \n",
       "1           48  Parda                        NaN  \n",
       "2           42  Branca                       NaN  \n",
       "3           39  Branca                       NaN  \n",
       "4           32  Parda                        NaN  \n",
       "\n",
       "[5 rows x 31 columns]"
      ]
     },
     "execution_count": 2,
     "metadata": {},
     "output_type": "execute_result"
    }
   ],
   "source": [
    "df.head()"
   ]
  },
  {
   "cell_type": "code",
   "execution_count": 3,
   "metadata": {
    "collapsed": false
   },
   "outputs": [
    {
     "name": "stdout",
     "output_type": "stream",
     "text": [
      "<class 'pandas.core.frame.DataFrame'>\n",
      "RangeIndex: 793050 entries, 0 to 793049\n",
      "Data columns (total 31 columns):\n",
      "ID_DELEGACIA               793050 non-null int64\n",
      "NOME_DEPARTAMENTO          793050 non-null object\n",
      "NOME_SECCIONAL             793050 non-null object\n",
      "NOME_DELEGACIA             793050 non-null object\n",
      "CIDADE                     793050 non-null object\n",
      "ANO_BO                     793050 non-null int64\n",
      "NUM_BO                     793050 non-null int64\n",
      "NOME_DEPARTAMENTO_CIRC     793050 non-null object\n",
      "NOME_SECCIONAL_CIRC        793050 non-null object\n",
      "NOME_DELEGACIA_CIRC        793050 non-null object\n",
      "NOME_MUNICIPIO_CIRC        793050 non-null object\n",
      "DESCR_TIPO_BO              793050 non-null object\n",
      "DATA_OCORRENCIA_BO         793050 non-null object\n",
      "HORA_OCORRENCIA_BO         712129 non-null object\n",
      "DATAHORA_COMUNICACAO_BO    0 non-null float64\n",
      "FLAG_STATUS                793050 non-null object\n",
      "RUBRICA                    793050 non-null object\n",
      "DESCR_CONDUTA              607623 non-null object\n",
      "DESDOBRAMENTO              44298 non-null object\n",
      "DESCR_TIPOLOCAL            793050 non-null object\n",
      "DESCR_SUBTIPOLOCAL         793050 non-null object\n",
      "LOGRADOURO                 793050 non-null object\n",
      "NUMERO_LOGRADOURO          739249 non-null object\n",
      "LATITUDE                   463935 non-null object\n",
      "LONGITUDE                  463927 non-null object\n",
      "DESCR_TIPO_PESSOA          793037 non-null object\n",
      "FLAG_VITIMA_FATAL          35424 non-null object\n",
      "SEXO_PESSOA                793031 non-null object\n",
      "IDADE_PESSOA               782791 non-null object\n",
      "COR_CUTIS                  791967 non-null object\n",
      "Unnamed: 30                17 non-null object\n",
      "dtypes: float64(1), int64(3), object(27)\n",
      "memory usage: 187.6+ MB\n"
     ]
    }
   ],
   "source": [
    "#Verificando tipo dados das colunas\n",
    "df.info()"
   ]
  },
  {
   "cell_type": "code",
   "execution_count": null,
   "metadata": {
    "collapsed": true
   },
   "outputs": [],
   "source": []
  },
  {
   "cell_type": "code",
   "execution_count": 5,
   "metadata": {
    "collapsed": false
   },
   "outputs": [
    {
     "data": {
      "text/plain": [
       "21:00    17929\n",
       "20:00    17758\n",
       "22:00    17094\n",
       "19:00    16163\n",
       "20:30    14926\n",
       "23:00    13980\n",
       "21:30    13836\n",
       "14:00    13515\n",
       "15:00    13511\n",
       "19:30    13256\n",
       "22:30    12971\n",
       "16:00    12869\n",
       "18:00    12604\n",
       "12:00    12266\n",
       "13:00    11495\n",
       "17:00    11473\n",
       "11:00    10979\n",
       "18:30    10876\n",
       "10:00    10516\n",
       "23:30    10295\n",
       "15:30     9350\n",
       "12:30     8874\n",
       "14:30     8872\n",
       "13:30     8823\n",
       "17:30     8697\n",
       "11:30     8617\n",
       "16:30     8457\n",
       "09:00     8194\n",
       "10:30     7847\n",
       "08:00     7743\n",
       "         ...  \n",
       "02:46       16\n",
       "01:41       16\n",
       "04:57       16\n",
       "06:09       15\n",
       "04:29       15\n",
       "03:43       15\n",
       "02:56       15\n",
       "05:48       15\n",
       "03:14       15\n",
       "02:31       15\n",
       "02:44       15\n",
       "02:01       15\n",
       "03:32       15\n",
       "03:11       15\n",
       "03:01       15\n",
       "05:39       14\n",
       "04:49       14\n",
       "05:51       14\n",
       "03:59       14\n",
       "04:28       13\n",
       "04:39       13\n",
       "05:09       13\n",
       "03:54       13\n",
       "05:26       13\n",
       "05:01       12\n",
       "04:01       11\n",
       "04:56       11\n",
       "04:16       10\n",
       "03:36        9\n",
       "04:42        9\n",
       "Name: HORA_OCORRENCIA_BO, dtype: int64"
      ]
     },
     "execution_count": 5,
     "metadata": {},
     "output_type": "execute_result"
    }
   ],
   "source": [
    "df['HORA_OCORRENCIA_BO'].value_counts()"
   ]
  },
  {
   "cell_type": "code",
   "execution_count": 6,
   "metadata": {
    "collapsed": false
   },
   "outputs": [
    {
     "data": {
      "text/plain": [
       "2017"
      ]
     },
     "execution_count": 6,
     "metadata": {},
     "output_type": "execute_result"
    }
   ],
   "source": [
    "#Sera que temos boletins inclusive desse ano ? \n",
    "df['ANO_BO'].max()\n"
   ]
  },
  {
   "cell_type": "code",
   "execution_count": 22,
   "metadata": {
    "collapsed": false
   },
   "outputs": [
    {
     "data": {
      "text/plain": [
       "Roubo (art. 157)                                                         362274\n",
       "Furto (art. 155)                                                         181813\n",
       "LesÃ£o corporal (art. 129)                                                84476\n",
       "LesÃ£o corporal culposa na direÃ§Ã£o de veÃ­culo automotor (Art. 303)     63806\n",
       "Furto qualificado (art. 155, Â§4o.)                                       63411\n",
       "LesÃ£o corporal (art 129 Â§ 9Âº)                                          18304\n",
       "HomicÃ­dio simples (art. 121)                                              5742\n",
       "Estupro de vulneravel (art.217-A)                                          4246\n",
       "LesÃ£o corporal culposa (art. 129. Â§6o.)                                  3085\n",
       "Estupro (art.213)                                                          2033\n",
       "HomicÃ­dio culposo na direÃ§Ã£o de veÃ­culo automotor (Art. 302)           1852\n",
       "HomicÃ­dio qualificado (art. 121, Â§2o.)                                   1304\n",
       "LesÃ£o corporal de natureza GRAVE (art. 129, Â§1o.)                         301\n",
       "HomicÃ­dio culposo (art. 121, Â§3o.)                                        190\n",
       "Furto de coisa comum (art. 156)                                             125\n",
       "LesÃ£o corporal  de natureza 'GRAVÃSSIMA' (art. 129, Â§2o.)                 46\n",
       "LesÃ£o corporal seguida de morte (art. 129, Â§3o.)                           28\n",
       "A.I.-Estupro de vulneravel (art.217-A)                                        9\n",
       "A.I.-Estupro (art.213)                                                        4\n",
       "A.I.-LesÃ£o corporal (art. 129)                                               1\n",
       "Name: RUBRICA, dtype: int64"
      ]
     },
     "execution_count": 22,
     "metadata": {},
     "output_type": "execute_result"
    }
   ],
   "source": [
    "#Verificando variáveis que podem conter tipos de crimes\n",
    "df['RUBRICA'].value_counts()"
   ]
  },
  {
   "cell_type": "code",
   "execution_count": 8,
   "metadata": {
    "collapsed": false
   },
   "outputs": [
    {
     "data": {
      "text/plain": [
       "20"
      ]
     },
     "execution_count": 8,
     "metadata": {},
     "output_type": "execute_result"
    }
   ],
   "source": [
    "#Excelente, vamos quer quantos tipos de crimes diferentes temos aqui registrados :\n",
    "df['RUBRICA'].nunique()"
   ]
  },
  {
   "cell_type": "code",
   "execution_count": 12,
   "metadata": {
    "collapsed": false
   },
   "outputs": [
    {
     "data": {
      "text/plain": [
       "10-20-10    1385\n",
       "09-13-11    1353\n",
       "09-06-11    1350\n",
       "12-01-11    1319\n",
       "10-07-10    1318\n",
       "11-01-11    1301\n",
       "09-09-11    1300\n",
       "10-05-11    1287\n",
       "01-24-12    1286\n",
       "08-10-11    1285\n",
       "05-05-11    1283\n",
       "11-08-11    1282\n",
       "09-21-11    1276\n",
       "11-10-11    1272\n",
       "12-06-11    1271\n",
       "08-17-11    1271\n",
       "10-10-11    1268\n",
       "11-11-11    1257\n",
       "10-21-10    1257\n",
       "09-01-11    1254\n",
       "12-20-11    1253\n",
       "11-30-11    1252\n",
       "10-06-10    1250\n",
       "09-29-10    1249\n",
       "10-26-11    1249\n",
       "11-05-10    1245\n",
       "08-26-11    1244\n",
       "10-15-10    1242\n",
       "04-15-11    1241\n",
       "11-07-11    1241\n",
       "            ... \n",
       "01-25-10     812\n",
       "03-28-10     811\n",
       "09-19-10     809\n",
       "07-18-10     808\n",
       "12-26-11     807\n",
       "01-23-11     806\n",
       "04-24-11     803\n",
       "01-01-11     786\n",
       "12-25-11     780\n",
       "09-26-10     776\n",
       "04-21-11     776\n",
       "09-07-10     772\n",
       "01-01-10     771\n",
       "12-31-11     768\n",
       "10-10-10     756\n",
       "04-03-10     748\n",
       "02-14-10     748\n",
       "10-02-11     745\n",
       "04-02-10     733\n",
       "12-31-10     733\n",
       "03-06-11     730\n",
       "01-03-10     724\n",
       "03-08-11     720\n",
       "09-05-10     720\n",
       "11-14-10     687\n",
       "04-22-11     684\n",
       "12-25-10     682\n",
       "01-02-10     673\n",
       "01-02-11     664\n",
       "12-26-10     568\n",
       "Name: DATA_OCORRENCIA_BO, dtype: int64"
      ]
     },
     "execution_count": 12,
     "metadata": {},
     "output_type": "execute_result"
    }
   ],
   "source": [
    "df['DATA_OCORRENCIA_BO'].value_counts()"
   ]
  },
  {
   "cell_type": "code",
   "execution_count": 14,
   "metadata": {
    "collapsed": true
   },
   "outputs": [],
   "source": [
    "df['DATA_OCORRENCIA_BO'] = pd.to_datetime(df['DATA_OCORRENCIA_BO'])"
   ]
  },
  {
   "cell_type": "code",
   "execution_count": 17,
   "metadata": {
    "collapsed": true
   },
   "outputs": [],
   "source": [
    "df['dia_da_semana'] = df['DATA_OCORRENCIA_BO'].dt.weekday_name"
   ]
  },
  {
   "cell_type": "code",
   "execution_count": 50,
   "metadata": {
    "collapsed": false
   },
   "outputs": [],
   "source": [
    "import matplotlib.pyplot as plt\n",
    "import seaborn as sns\n",
    "\n",
    "sns.set_style('darkgrid')"
   ]
  },
  {
   "cell_type": "code",
   "execution_count": 51,
   "metadata": {
    "collapsed": false
   },
   "outputs": [],
   "source": [
    "semana = pd.DataFrame(df['dia_da_semana'].value_counts())"
   ]
  },
  {
   "cell_type": "code",
   "execution_count": 52,
   "metadata": {
    "collapsed": false
   },
   "outputs": [
    {
     "data": {
      "text/plain": [
       "<matplotlib.axes._subplots.AxesSubplot at 0x7f1a1fac9080>"
      ]
     },
     "execution_count": 52,
     "metadata": {},
     "output_type": "execute_result"
    },
    {
     "data": {
      "image/png": "[encoded data removed]",
      "text/plain": [
       "<matplotlib.figure.Figure at 0x7f1a1facf198>"
      ]
     },
     "metadata": {},
     "output_type": "display_data"
    }
   ],
   "source": [
    "semana.plot(title = 'Distribuição dos Crimes por dia da Semana' , kind='barh',color = 'red', use_index=True, legend=True, sort_columns=True)"
   ]
  },
  {
   "cell_type": "code",
   "execution_count": 53,
   "metadata": {
    "collapsed": true
   },
   "outputs": [],
   "source": [
    "df['mes'] = df['DATA_OCORRENCIA_BO'].dt.month"
   ]
  },
  {
   "cell_type": "code",
   "execution_count": 54,
   "metadata": {
    "collapsed": false
   },
   "outputs": [
    {
     "data": {
      "text/html": [
       "<div>\n",
       "<table border=\"1\" class=\"dataframe\">\n",
       "  <thead>\n",
       "    <tr style=\"text-align: right;\">\n",
       "      <th></th>\n",
       "      <th>mes</th>\n",
       "    </tr>\n",
       "  </thead>\n",
       "  <tbody>\n",
       "    <tr>\n",
       "      <th>1</th>\n",
       "      <td>92684</td>\n",
       "    </tr>\n",
       "    <tr>\n",
       "      <th>10</th>\n",
       "      <td>66942</td>\n",
       "    </tr>\n",
       "    <tr>\n",
       "      <th>8</th>\n",
       "      <td>66678</td>\n",
       "    </tr>\n",
       "    <tr>\n",
       "      <th>5</th>\n",
       "      <td>64944</td>\n",
       "    </tr>\n",
       "    <tr>\n",
       "      <th>9</th>\n",
       "      <td>64868</td>\n",
       "    </tr>\n",
       "  </tbody>\n",
       "</table>\n",
       "</div>"
      ],
      "text/plain": [
       "      mes\n",
       "1   92684\n",
       "10  66942\n",
       "8   66678\n",
       "5   64944\n",
       "9   64868"
      ]
     },
     "execution_count": 54,
     "metadata": {},
     "output_type": "execute_result"
    }
   ],
   "source": [
    "mes =  pd.DataFrame(df['mes'].value_counts())\n",
    "mes.head()"
   ]
  },
  {
   "cell_type": "code",
   "execution_count": 55,
   "metadata": {
    "collapsed": false
   },
   "outputs": [
    {
     "data": {
      "text/html": [
       "<div>\n",
       "<table border=\"1\" class=\"dataframe\">\n",
       "  <thead>\n",
       "    <tr style=\"text-align: right;\">\n",
       "      <th></th>\n",
       "      <th>mes</th>\n",
       "      <th>numero de crimes</th>\n",
       "    </tr>\n",
       "  </thead>\n",
       "  <tbody>\n",
       "    <tr>\n",
       "      <th>1</th>\n",
       "      <td>92684</td>\n",
       "      <td>1</td>\n",
       "    </tr>\n",
       "    <tr>\n",
       "      <th>10</th>\n",
       "      <td>66942</td>\n",
       "      <td>10</td>\n",
       "    </tr>\n",
       "    <tr>\n",
       "      <th>8</th>\n",
       "      <td>66678</td>\n",
       "      <td>8</td>\n",
       "    </tr>\n",
       "    <tr>\n",
       "      <th>5</th>\n",
       "      <td>64944</td>\n",
       "      <td>5</td>\n",
       "    </tr>\n",
       "    <tr>\n",
       "      <th>9</th>\n",
       "      <td>64868</td>\n",
       "      <td>9</td>\n",
       "    </tr>\n",
       "  </tbody>\n",
       "</table>\n",
       "</div>"
      ],
      "text/plain": [
       "      mes  numero de crimes\n",
       "1   92684                 1\n",
       "10  66942                10\n",
       "8   66678                 8\n",
       "5   64944                 5\n",
       "9   64868                 9"
      ]
     },
     "execution_count": 55,
     "metadata": {},
     "output_type": "execute_result"
    }
   ],
   "source": [
    "mes['numero de crimes']  = mes.index\n",
    "mes.head()"
   ]
  },
  {
   "cell_type": "code",
   "execution_count": 57,
   "metadata": {
    "collapsed": false
   },
   "outputs": [
    {
     "data": {
      "text/plain": [
       "<matplotlib.axes._subplots.AxesSubplot at 0x7f1a1fa2ce48>"
      ]
     },
     "execution_count": 57,
     "metadata": {},
     "output_type": "execute_result"
    },
    {
     "data": {
      "image/png": "[encoded data removed]",
      "text/plain": [
       "<matplotlib.figure.Figure at 0x7f1a1f978ef0>"
      ]
     },
     "metadata": {},
     "output_type": "display_data"
    }
   ],
   "source": [
    "mes.plot(title = 'Distribuição dos Crimes por dia mês' , kind='barh',color = 'blue', use_index=True, legend=True, sort_columns=True)"
   ]
  },
  {
   "cell_type": "markdown",
   "metadata": {},
   "source": [
    "### Fica a dúvida se de fato janeiro é mesmo o mês com o maior número de crimes, ou se o governo sempre joga os número não contabilizados do ano anterior para o ano seguinte pra mascarar os números atuais (o que no longo prazo sempre acaba aparecendo)"
   ]
  },
  {
   "cell_type": "code",
   "execution_count": 66,
   "metadata": {
    "collapsed": false
   },
   "outputs": [
    {
     "data": {
      "text/html": [
       "<div>\n",
       "<table border=\"1\" class=\"dataframe\">\n",
       "  <thead>\n",
       "    <tr style=\"text-align: right;\">\n",
       "      <th></th>\n",
       "      <th>HORA_OCORRENCIA_BO</th>\n",
       "    </tr>\n",
       "  </thead>\n",
       "  <tbody>\n",
       "    <tr>\n",
       "      <th>21:00</th>\n",
       "      <td>17929</td>\n",
       "    </tr>\n",
       "    <tr>\n",
       "      <th>20:00</th>\n",
       "      <td>17758</td>\n",
       "    </tr>\n",
       "    <tr>\n",
       "      <th>22:00</th>\n",
       "      <td>17094</td>\n",
       "    </tr>\n",
       "    <tr>\n",
       "      <th>19:00</th>\n",
       "      <td>16163</td>\n",
       "    </tr>\n",
       "    <tr>\n",
       "      <th>20:30</th>\n",
       "      <td>14926</td>\n",
       "    </tr>\n",
       "    <tr>\n",
       "      <th>23:00</th>\n",
       "      <td>13980</td>\n",
       "    </tr>\n",
       "    <tr>\n",
       "      <th>21:30</th>\n",
       "      <td>13836</td>\n",
       "    </tr>\n",
       "    <tr>\n",
       "      <th>14:00</th>\n",
       "      <td>13515</td>\n",
       "    </tr>\n",
       "    <tr>\n",
       "      <th>15:00</th>\n",
       "      <td>13511</td>\n",
       "    </tr>\n",
       "    <tr>\n",
       "      <th>19:30</th>\n",
       "      <td>13256</td>\n",
       "    </tr>\n",
       "  </tbody>\n",
       "</table>\n",
       "</div>"
      ],
      "text/plain": [
       "       HORA_OCORRENCIA_BO\n",
       "21:00               17929\n",
       "20:00               17758\n",
       "22:00               17094\n",
       "19:00               16163\n",
       "20:30               14926\n",
       "23:00               13980\n",
       "21:30               13836\n",
       "14:00               13515\n",
       "15:00               13511\n",
       "19:30               13256"
      ]
     },
     "execution_count": 66,
     "metadata": {},
     "output_type": "execute_result"
    }
   ],
   "source": [
    "top_10_horario_crimes = pd.DataFrame(df['HORA_OCORRENCIA_BO'].value_counts().head(10))\n",
    "top_10_horario_crimes"
   ]
  },
  {
   "cell_type": "code",
   "execution_count": 68,
   "metadata": {
    "collapsed": false
   },
   "outputs": [
    {
     "data": {
      "text/plain": [
       "<matplotlib.axes._subplots.AxesSubplot at 0x7f1a20076080>"
      ]
     },
     "execution_count": 68,
     "metadata": {},
     "output_type": "execute_result"
    },
    {
     "data": {
      "image/png": "[encoded data removed]",
      "text/plain": [
       "<matplotlib.figure.Figure at 0x7f1a201aa6a0>"
      ]
     },
     "metadata": {},
     "output_type": "display_data"
    }
   ],
   "source": [
    "top_10_horario_crimes.plot(title = 'Top 10 de horarios de maior ocorrencia de crimes' , kind='barh',color = 'purple', use_index=True, legend=False, sort_columns=True)"
   ]
  },
  {
   "cell_type": "code",
   "execution_count": 71,
   "metadata": {
    "collapsed": false
   },
   "outputs": [
    {
     "data": {
      "text/plain": [
       "S.PAULO                                     793042\n",
       "GUARULHOS                                        3\n",
       "PERUIBE                                          1\n",
       "Sao Paulo                                        1\n",
       "DIADEMA                                          1\n",
       "LIMEIRA                                          1\n",
       "APARECIDA                                        1\n",
       "Name: CIDADE, dtype: int64"
      ]
     },
     "execution_count": 71,
     "metadata": {},
     "output_type": "execute_result"
    }
   ],
   "source": [
    "df['CIDADE'].value_counts()"
   ]
  },
  {
   "cell_type": "code",
   "execution_count": 72,
   "metadata": {
    "collapsed": false
   },
   "outputs": [
    {
     "data": {
      "text/plain": [
       "InformaÃ§Ã£o protegida (art 31 LAI)            84282\n",
       "AV SAPOPEMBA                                    4109\n",
       "AV DAS NACOES UNIDAS                            3562\n",
       "AV MAL TITO                                     3401\n",
       "AV SEN TEOTONIO VILELA                          3101\n",
       "EST DE ITAPECERICA                              3042\n",
       "AV CRUZEIRO DO SUL                              3040\n",
       "EST DO M BOI MIRIM                              2878\n",
       "AV DO ESTADO                                    2682\n",
       "RODOVIA RAPOSO TAVARES                          2663\n",
       "AV ARICANDUVA                                   2572\n",
       "AV PAULISTA                                     2524\n",
       "AV RAIMUNDO PEREIRA DE MAGALHAES                2474\n",
       "AV SAO MIGUEL                                   2408\n",
       "EST DO CAMPO LIMPO                              2347\n",
       "AV RAGUEB CHOHFI                                2260\n",
       "AV CUPECE                                       2176\n",
       "PC DA SE                                        2155\n",
       "AV CELSO GARCIA                                 2096\n",
       "AV INTERLAGOS                                   2058\n",
       "AV GIOVANNI GRONCHI                             2004\n",
       "R VINTE E CINCO DE MARCO                        1936\n",
       "R DA CONSOLACAO                                 1932\n",
       "R VERGUEIRO                                     1766\n",
       "AV WASHINGTON LUIS                              1760\n",
       "AV PROF FRANCISCO MORATO                        1726\n",
       "AV SANTO AMARO                                  1689\n",
       "R AUGUSTA                                       1689\n",
       "AV BRIGADEIRO FARIA LIMA                        1559\n",
       "AV PROF LUIS IGNACIO DE ANHAIA MELLO            1540\n",
       "                                               ...  \n",
       "LOCAL NAO INFORMADO                                1\n",
       "RUA DA SERESTA                                     1\n",
       "ANGELO JOSE RIBEIRO                                1\n",
       "R ARGIVAI                                          1\n",
       "INHAGABAS                                          1\n",
       "RUA JUNTAS PROVISORIO                              1\n",
       "ESTAÃÃO ITAPEVI/B.FUNDA/CPTM                     1\n",
       "VE BOA VISTA DOS RAMOS                             1\n",
       "VIA COLETORA                                       1\n",
       "ENTRE ESTAÃÃO JD.HELENA/TATUAPÃ/CPTM            1\n",
       "EST.ANHANGABAU-B.FUNDA ( INTERIOR TREM )           1\n",
       "RUA RIO BRAVO                                      1\n",
       "RUA PIAUÃ                                         1\n",
       "AV SEN QUEIROZ                                     1\n",
       "RUA PEDRO ALVARES CABRAL                           1\n",
       "LARGO DRACENA                                      1\n",
       "RUA HERBART                                        1\n",
       "EDER DA SILVA GALO                                 1\n",
       "TV MATILDE                                         1\n",
       "AV AGUAS ESPRAIADAS                                1\n",
       "TV JOAO ZELTNER                                    1\n",
       "TV WASHINGTON                                      1\n",
       "RUA ILIDIO DE FIGUEIREDO                           1\n",
       "TV DAS PAPOULAS                                    1\n",
       "TV MARIA PADILHA                                   1\n",
       "JOFRE SOARES                                       1\n",
       "LEOPOLDO DO AMARAL                                 1\n",
       "EST.PENHA - INT. TREM DEST.BARRA-FUNDA             1\n",
       "R MANOEL GRACA                                     1\n",
       "TV LA COMPARSITA                                   1\n",
       "Name: LOGRADOURO, dtype: int64"
      ]
     },
     "execution_count": 72,
     "metadata": {},
     "output_type": "execute_result"
    }
   ],
   "source": [
    "df['LOGRADOURO'].value_counts()"
   ]
  },
  {
   "cell_type": "code",
   "execution_count": 24,
   "metadata": {
    "collapsed": false
   },
   "outputs": [
    {
     "data": {
      "text/plain": [
       "Via pÃºblica                                   545273\n",
       "ResidÃªncia                                    112040\n",
       "ComÃ©rcio e serviÃ§os                           52989\n",
       "Terminal/EstaÃ§Ã£o                              14654\n",
       "Restaurante e afins                             12363\n",
       "Estabelecimento bancÃ¡rio                       10752\n",
       "Lazer e recreaÃ§Ã£o                              7723\n",
       "Estabelecimento de ensino                        5595\n",
       "SaÃºde                                           4667\n",
       "Centro Comerc./Empresarial                       3668\n",
       "Condominio Residencial                           3562\n",
       "Rodovia/Estrada                                  2827\n",
       "Shopping Center                                  2694\n",
       "Hospedagem                                       2564\n",
       "Area nÃ£o ocupada                                2532\n",
       "EscritÃ³rio                                      2259\n",
       "RepartiÃ§Ã£o PÃºblica                            1361\n",
       "Entidade assistencial                            1220\n",
       "Condominio Comercial                              931\n",
       "Templo e afins                                    872\n",
       "Estabelecimento industrial                        782\n",
       "ServiÃ§os e bens pÃºblicos                        545\n",
       "Estabelecimento prisional                         368\n",
       "Favela                                            227\n",
       "Estrada de ferro                                  197\n",
       "Outros                                            163\n",
       "Unidade rural                                     153\n",
       "Local clandestino/ilegal                           40\n",
       "Sindicato                                          29\n",
       "Name: DESCR_TIPOLOCAL, dtype: int64"
      ]
     },
     "execution_count": 24,
     "metadata": {},
     "output_type": "execute_result"
    }
   ],
   "source": [
    "df['DESCR_TIPOLOCAL'].value_counts()"
   ]
  },
  {
   "cell_type": "code",
   "execution_count": 13,
   "metadata": {
    "collapsed": false
   },
   "outputs": [
    {
     "data": {
      "text/plain": [
       "array(['LesÃ£o corporal (art. 129)',\n",
       "       'LesÃ£o corporal culposa (art. 129. Â§6o.)', 'Furto (art. 155)',\n",
       "       'Furto qualificado (art. 155, Â§4o.)', 'Roubo (art. 157)',\n",
       "       'LesÃ£o corporal culposa na direÃ§Ã£o de veÃ\\xadculo automotor (Art. 303)',\n",
       "       'Estupro (art.213)', 'LesÃ£o corporal (art 129 Â§ 9Âº)',\n",
       "       'LesÃ£o corporal de natureza GRAVE (art. 129, Â§1o.)',\n",
       "       'HomicÃ\\xaddio simples (art. 121)',\n",
       "       'HomicÃ\\xaddio culposo (art. 121, Â§3o.)',\n",
       "       'HomicÃ\\xaddio culposo na direÃ§Ã£o de veÃ\\xadculo automotor (Art. 302)',\n",
       "       'HomicÃ\\xaddio qualificado (art. 121, Â§2o.)',\n",
       "       'Estupro de vulneravel (art.217-A)',\n",
       "       \"LesÃ£o corporal  de natureza 'GRAVÃ\\x8dSSIMA' (art. 129, Â§2o.)\",\n",
       "       'Furto de coisa comum (art. 156)',\n",
       "       'LesÃ£o corporal seguida de morte (art. 129, Â§3o.)',\n",
       "       'A.I.-Estupro de vulneravel (art.217-A)',\n",
       "       'A.I.-LesÃ£o corporal (art. 129)', 'A.I.-Estupro (art.213)'], dtype=object)"
      ]
     },
     "execution_count": 13,
     "metadata": {},
     "output_type": "execute_result"
    }
   ],
   "source": [
    "#E agora vamos ver quais são\n",
    "df['RUBRICA'].unique()"
   ]
  },
  {
   "cell_type": "markdown",
   "metadata": {},
   "source": []
  },
  {
   "cell_type": "code",
   "execution_count": 73,
   "metadata": {
    "collapsed": false
   },
   "outputs": [
    {
     "data": {
      "text/plain": [
       "N                        35104\n",
       "S                          242\n",
       "                            61\n",
       "VÃ­tima                     17\n",
       "Name: FLAG_VITIMA_FATAL, dtype: int64"
      ]
     },
     "execution_count": 73,
     "metadata": {},
     "output_type": "execute_result"
    }
   ],
   "source": [
    "df['FLAG_VITIMA_FATAL'].value_counts()"
   ]
  },
  {
   "cell_type": "code",
   "execution_count": 77,
   "metadata": {
    "collapsed": false
   },
   "outputs": [],
   "source": [
    "homicidios_qualificados = df[df['RUBRICA']=='HomicÃ\\xaddio qualificado (art. 121, Â§2o.)']"
   ]
  },
  {
   "cell_type": "code",
   "execution_count": 78,
   "metadata": {
    "collapsed": false
   },
   "outputs": [
    {
     "data": {
      "text/plain": [
       "InformaÃ§Ã£o protegida (art 31 LAI)         214\n",
       "AV DAS NACOES UNIDAS                         17\n",
       "R FLORENCIO E RIELLI TORRES                  16\n",
       "AV AURO SOARES DE MOURA ANDRADE              15\n",
       "R SEVERINO SUZANO                            14\n",
       "AV AGUA ESPRAIADA                            13\n",
       "R ANTONIO LOPES DE MEDEIROS                  10\n",
       "R CARDOSO DE ALMEIDA                         10\n",
       "R NELSON DE MORAES LOPES                     10\n",
       "AV CURSINO                                    9\n",
       "PC GAL POLIDORO                               9\n",
       "R PROF LUIZ PEREIRA BARRETO NETO              8\n",
       "R LUIS APARECIDO HUNGARO                      8\n",
       "R AUGUSTA                                     7\n",
       "R SAO GONCALO DO RIO DAS PEDRAS               6\n",
       "DR. DOMINGOS AMERICANO                        6\n",
       "R DAMASIO PINTO                               6\n",
       "R GOMES DE CARVALHO                           6\n",
       "R ADELAIDE LUISA DE MOLINA                    6\n",
       "R CEL DIOGO                                   6\n",
       "R TREZE DE MAIO                               6\n",
       "R OITI                                        6\n",
       "R SOARES DE BULHOES                           6\n",
       "R WALDO PAOLIELLO JR                          6\n",
       "R BEZERROS                                    5\n",
       "R TERRAS DE CAMBRA                            5\n",
       "R MAL MORAIS ANCORA                           5\n",
       "EST DE POA                                    5\n",
       "PARQUE DOM PEDRO II                           5\n",
       "R MEDEIROS FURTADO                            5\n",
       "                                           ... \n",
       "R CORES VIVAS                                 1\n",
       "R SILVESTRE DA CONCEICAO                      1\n",
       "R MARIA DOMITILA                              1\n",
       "AL DINO BUENO                                 1\n",
       "R BORGES                                      1\n",
       "R VITOR DE QUEIROZ MATOS                      1\n",
       "R RIO DUAS BARRAS                             1\n",
       "R FAURE ROSA                                  1\n",
       "R FRANCISCO SANTO SUOSSO                      1\n",
       "R MARGARIDA SILVEIRA LEITE                    1\n",
       "R DOMINGOS DE BRITO                           1\n",
       "R DIOGO PIRES                                 1\n",
       "R JACOME TELES DE MENEZES                     1\n",
       "AV JOAO PAULO I                               1\n",
       "R VICENTE QUARESMA                            1\n",
       "R AMARO DE PONTES                             1\n",
       "R DONA VERIDIANA                              1\n",
       "AV CARLOS DOS SANTOS                          1\n",
       "AV DO ESTADO                                  1\n",
       "R COPARA                                      1\n",
       "R JOSE PERES CAMPELO                          1\n",
       "RUA VASCO DA GAMA                             1\n",
       "RUA PEDRO DE MELO E SOUSA                     1\n",
       "RODOVIA DOS BANDEIRANTES                      1\n",
       "R ZITUO KARASAWA                              1\n",
       "ELISA GONCALVES BARCELOS                      1\n",
       "R TERESA FARIAS ISASSI                        1\n",
       "R SAMUEL SCOTT                                1\n",
       "R MENDES CALDEIRA                             1\n",
       "AV FLAMINGO                                   1\n",
       "Name: LOGRADOURO, dtype: int64"
      ]
     },
     "execution_count": 78,
     "metadata": {},
     "output_type": "execute_result"
    }
   ],
   "source": [
    "homicidios_qualificados['LOGRADOURO'].value_counts()"
   ]
  },
  {
   "cell_type": "code",
   "execution_count": null,
   "metadata": {
    "collapsed": false
   },
   "outputs": [],
   "source": []
  },
  {
   "cell_type": "code",
   "execution_count": null,
   "metadata": {
    "collapsed": false
   },
   "outputs": [],
   "source": []
  },
  {
   "cell_type": "code",
   "execution_count": null,
   "metadata": {
    "collapsed": false
   },
   "outputs": [],
   "source": []
  },
  {
   "cell_type": "code",
   "execution_count": null,
   "metadata": {
    "collapsed": true
   },
   "outputs": [],
   "source": []
  }
 ],
 "metadata": {
  "kernelspec": {
   "display_name": "Python 3",
   "language": "python",
   "name": "python3"
  },
  "language_info": {
   "codemirror_mode": {
    "name": "ipython",
    "version": 3
   },
   "file_extension": ".py",
   "mimetype": "text/x-python",
   "name": "python",
   "nbconvert_exporter": "python",
   "pygments_lexer": "ipython3",
   "version": "3.5.1"
  }
 },
 "nbformat": 4,
 "nbformat_minor": 0
}
